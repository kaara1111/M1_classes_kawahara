{
 "cells": [
  {
   "cell_type": "code",
   "execution_count": 27,
   "metadata": {},
   "outputs": [],
   "source": [
    "def gcd(x, y, i=0):\n",
    "    if type(x) == str:\n",
    "        x = int(str(x), 2)\n",
    "        y = int(str(y), 2)\n",
    "    # if x<y:\n",
    "    #     x, y = y, x\n",
    "    if y==0:\n",
    "        return x, i\n",
    "    while y>0:\n",
    "        return gcd(y, x%y, i+1)"
   ]
  },
  {
   "cell_type": "code",
   "execution_count": 28,
   "metadata": {},
   "outputs": [
    {
     "name": "stdout",
     "output_type": "stream",
     "text": [
      "(1, 2)\n",
      "(1, 5)\n",
      "(1, 13)\n",
      "(1, 13)\n"
     ]
    }
   ],
   "source": [
    "print(gcd(111101, 101))\n",
    "print(gcd(111101, 111011))\n",
    "print(gcd(111011111, 111111101))\n",
    "print(gcd(111101111, 111011))"
   ]
  }
 ],
 "metadata": {
  "language_info": {
   "name": "python"
  },
  "orig_nbformat": 4
 },
 "nbformat": 4,
 "nbformat_minor": 2
}
