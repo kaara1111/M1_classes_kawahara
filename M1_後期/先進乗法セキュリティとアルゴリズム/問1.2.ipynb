{
 "cells": [
  {
   "cell_type": "code",
   "execution_count": 5,
   "metadata": {},
   "outputs": [
    {
     "name": "stdout",
     "output_type": "stream",
     "text": [
      "ord(1) = 2\n",
      "ord(2) = 14\n",
      "ord(3) = 42\n",
      "ord(4) = 7\n",
      "ord(5) = 42\n",
      "ord(6) = 3\n",
      "ord(7) = 6\n",
      "ord(8) = 14\n",
      "ord(9) = 21\n",
      "ord(10) = 21\n",
      "ord(11) = 7\n",
      "ord(12) = 42\n",
      "ord(13) = 21\n",
      "ord(14) = 21\n",
      "ord(15) = 21\n",
      "ord(16) = 7\n",
      "ord(17) = 21\n",
      "ord(18) = 42\n",
      "ord(19) = 42\n",
      "ord(20) = 42\n",
      "ord(21) = 7\n",
      "ord(22) = 14\n",
      "ord(23) = 21\n",
      "ord(24) = 21\n",
      "ord(25) = 21\n",
      "ord(26) = 42\n",
      "ord(27) = 14\n",
      "ord(28) = 42\n",
      "ord(29) = 42\n",
      "ord(30) = 42\n",
      "ord(31) = 21\n",
      "ord(32) = 14\n",
      "ord(33) = 42\n",
      "ord(34) = 42\n",
      "ord(35) = 7\n",
      "ord(36) = 3\n",
      "ord(37) = 6\n",
      "ord(38) = 21\n",
      "ord(39) = 14\n",
      "ord(40) = 21\n",
      "ord(41) = 7\n",
      "ord(42) = 2\n"
     ]
    }
   ],
   "source": [
    "def get_order(m):\n",
    "    for i in range(1, m):\n",
    "        tmp = i\n",
    "        for j in range(1, m):\n",
    "            tmp = (tmp * i) % m\n",
    "            if tmp == 1:\n",
    "                print(f\"ord({i}) = {j+1}\")\n",
    "                break\n",
    "get_order(43)"
   ]
  }
 ],
 "metadata": {
  "kernelspec": {
   "display_name": "py38",
   "language": "python",
   "name": "python3"
  },
  "language_info": {
   "codemirror_mode": {
    "name": "ipython",
    "version": 3
   },
   "file_extension": ".py",
   "mimetype": "text/x-python",
   "name": "python",
   "nbconvert_exporter": "python",
   "pygments_lexer": "ipython3",
   "version": "3.9.18"
  }
 },
 "nbformat": 4,
 "nbformat_minor": 2
}
