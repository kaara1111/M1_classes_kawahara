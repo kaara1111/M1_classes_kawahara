{
 "cells": [
  {
   "cell_type": "code",
   "execution_count": 3,
   "metadata": {},
   "outputs": [],
   "source": [
    "def Mod(a, b):\n",
    "    return a%b\n",
    "\n",
    "def ModBinary(g, k, p):\n",
    "    g = int(str(g), 2)\n",
    "    y=1\n",
    "    k = str(bin(k))[2:]\n",
    "    for i in k:\n",
    "        if i=='1':\n",
    "            y = Mod(Mod(y**2, p)*g, p)\n",
    "            # print(y)\n",
    "        else:\n",
    "            y = Mod(y**2, p)\n",
    "            # print(y)\n",
    "    return y, len(k)"
   ]
  },
  {
   "cell_type": "code",
   "execution_count": 5,
   "metadata": {},
   "outputs": [
    {
     "name": "stdout",
     "output_type": "stream",
     "text": [
      "(40, 8)\n",
      "(151, 8)\n",
      "(416, 9)\n",
      "(137, 9)\n"
     ]
    }
   ],
   "source": [
    "print(ModBinary(101, 197, 199))\n",
    "print(ModBinary(11101, 197, 199))\n",
    "print(ModBinary(111111001, 497, 499))\n",
    "print(ModBinary(110011, 497, 499))"
   ]
  }
 ],
 "metadata": {
  "kernelspec": {
   "display_name": "py38",
   "language": "python",
   "name": "python3"
  },
  "language_info": {
   "codemirror_mode": {
    "name": "ipython",
    "version": 3
   },
   "file_extension": ".py",
   "mimetype": "text/x-python",
   "name": "python",
   "nbconvert_exporter": "python",
   "pygments_lexer": "ipython3",
   "version": "3.9.18"
  },
  "orig_nbformat": 4
 },
 "nbformat": 4,
 "nbformat_minor": 2
}
