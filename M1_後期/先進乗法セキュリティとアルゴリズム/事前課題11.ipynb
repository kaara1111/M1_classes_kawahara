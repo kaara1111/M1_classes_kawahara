{
 "cells": [
  {
   "cell_type": "code",
   "execution_count": 29,
   "metadata": {},
   "outputs": [],
   "source": [
    "def exists_sqrt(x, p):\n",
    "    cond = False\n",
    "    ret = []\n",
    "    for i in range(p):\n",
    "        if i * i % p == x % p:\n",
    "            cond = True\n",
    "            ret.append(i)\n",
    "    if cond:\n",
    "        return True, ret\n",
    "    else:\n",
    "        return False, None"
   ]
  },
  {
   "cell_type": "code",
   "execution_count": 48,
   "metadata": {},
   "outputs": [],
   "source": [
    "def get_num_EFp(a, b, p):\n",
    "    num = []\n",
    "    for i in range(p):\n",
    "        sqrt = exists_sqrt(i * i * i + a * i + b, p)\n",
    "        if sqrt[0]:\n",
    "            print(i, sqrt[1])\n",
    "            num += sqrt[1]\n",
    "    return len(num) + 1"
   ]
  },
  {
   "cell_type": "code",
   "execution_count": 52,
   "metadata": {},
   "outputs": [
    {
     "name": "stdout",
     "output_type": "stream",
     "text": [
      "1 [1, 22]\n",
      "2 [3, 20]\n",
      "3 [11, 12]\n",
      "7 [2, 21]\n",
      "8 [6, 17]\n",
      "9 [1, 22]\n",
      "13 [1, 22]\n",
      "15 [10, 13]\n",
      "19 [0]\n",
      "21 [9, 14]\n",
      "20\n"
     ]
    }
   ],
   "source": [
    "num = get_num_EFp(1, -1, 23)\n",
    "print(num)"
   ]
  },
  {
   "cell_type": "code",
   "execution_count": 50,
   "metadata": {},
   "outputs": [],
   "source": [
    "def Mod(a, b):\n",
    "    return a%b\n",
    "\n",
    "def mod_binary(g, k, n, p):\n",
    "    y=1\n",
    "    k = str(bin(k))[2:]\n",
    "    for i in k:\n",
    "        if i=='1':\n",
    "            y = Mod(Mod(y**2, p)*g, p)\n",
    "            # print(y)\n",
    "        else:\n",
    "            y = Mod(y**2, p)\n",
    "            # print(y)\n",
    "    return y\n",
    "\n",
    "def inv(a, n):\n",
    "    # return a^-1 mod n\n",
    "    return mod_binary(a, n-2, len(str(bin(n-2))[2:]) , n)\n",
    "\n",
    "def j_invariant(a, b, p):\n",
    "    D = (4 * a * a * a + 27 * b * b) % p\n",
    "    return 4*1728 * a * a * a * inv(D, p) % p"
   ]
  },
  {
   "cell_type": "code",
   "execution_count": 53,
   "metadata": {},
   "outputs": [
    {
     "name": "stdout",
     "output_type": "stream",
     "text": [
      "13\n"
     ]
    }
   ],
   "source": [
    "j = j_invariant(1, -1, 23)\n",
    "print(j)"
   ]
  },
  {
   "cell_type": "code",
   "execution_count": 56,
   "metadata": {},
   "outputs": [
    {
     "name": "stdout",
     "output_type": "stream",
     "text": [
      "1 5\n",
      "1 8\n",
      "2 1\n",
      "2 12\n",
      "3 5\n",
      "3 8\n",
      "4 2\n",
      "4 11\n",
      "5 1\n",
      "5 12\n",
      "6 1\n",
      "6 12\n",
      "9 5\n",
      "9 8\n",
      "10 2\n",
      "10 11\n",
      "12 2\n",
      "12 11\n"
     ]
    }
   ],
   "source": [
    "y = (2**3 +11) % 13\n",
    "for s in range(1, 13):\n",
    "    for t in range(1, 13):\n",
    "        if (1**3*s**3 + 2) % 13 == (t*y)**2 % 13:\n",
    "            print(s, t)"
   ]
  }
 ],
 "metadata": {
  "kernelspec": {
   "display_name": "py38",
   "language": "python",
   "name": "python3"
  },
  "language_info": {
   "codemirror_mode": {
    "name": "ipython",
    "version": 3
   },
   "file_extension": ".py",
   "mimetype": "text/x-python",
   "name": "python",
   "nbconvert_exporter": "python",
   "pygments_lexer": "ipython3",
   "version": "3.9.18"
  }
 },
 "nbformat": 4,
 "nbformat_minor": 2
}
