{
 "cells": [
  {
   "cell_type": "code",
   "execution_count": 46,
   "metadata": {},
   "outputs": [],
   "source": [
    "# 絶対値最小剰余の計算\n",
    "# Input：整数 𝑎, 𝑛 (𝑛>0)\n",
    "# Output：𝑎 を 𝑛 で割った時の絶対値最小剰余\n",
    "def mod(a, n):\n",
    "    r = a % n\n",
    "    if r > n/2:\n",
    "        return r-n # 戻り値を指定\n",
    "    else:\n",
    "        return r # 戻り値を指定"
   ]
  },
  {
   "cell_type": "code",
   "execution_count": 47,
   "metadata": {},
   "outputs": [],
   "source": [
    "# ランダムな多項式の生成\n",
    "# Input：𝑘, 𝑝\n",
    "# Output： ℤ/𝑝ℤ[𝑋]/⟨Φ_2n ⟩ (𝑛=2^𝑘 ) の一様ランダムな多項式の係数のリスト\n",
    "#   (係数の範囲が (−𝑝/2,𝑝/2]内の整数であり，次数が 𝑛 未満の多項式の係数のリストを出力する）\n",
    "\n",
    "import random, math\n",
    "def random_poly(k, p):\n",
    "    N = 1<<k # N=2^k (2のk乗)\n",
    "    return [random.randint(int(-p/2)+1, int(p/2)) for _ in range(N)] # リスト内包表記\n",
    "    # 残りを実装"
   ]
  },
  {
   "cell_type": "code",
   "execution_count": 48,
   "metadata": {},
   "outputs": [],
   "source": [
    "# 多項式のリダクション\n",
    "# Input：𝑘, 𝑝, 多項式の係数のリスト\n",
    "# Output：入力多項式と⟨Φ_2n ⟩ を法として合同な 次数が 𝑛 未満の多項式の係数のリスト\n",
    "\n",
    "def poly_red(f, k, p):\n",
    "    N =1<<k # N=2^k (2のk乗)\n",
    "    if N > len(f)-1: # N=2^k > deg(f) なら係数だけを mod して出力\n",
    "        return [mod(f[i], p) for i in range(len(f))]\n",
    "    else:\n",
    "        q, r = divmod(len(f)-1, N) # def(f) = len(f)-1. deg(f) を N=2^k で割った時の商 q と余り r を取得\n",
    "        # fの係数 f[i] を更新する \n",
    "        while len(f) -N > 0:\n",
    "            f[-N-1] = mod(f[-N-1] - f[-1], p)\n",
    "            f = f[:-1]\n",
    "        \n",
    "        return [mod(f[i], p) for i in range(N)] # 更新した f[i] に mod関数を適用"
   ]
  },
  {
   "cell_type": "code",
   "execution_count": 49,
   "metadata": {},
   "outputs": [],
   "source": [
    "# 2つの多項式の加法\n",
    "# 入力：𝑘, 𝑝, 多項式 𝑓, 𝑔 の係数のリスト\n",
    "# 出力： 𝑓+𝑔 と ⟨Φ_2n ⟩ を法として合同な 次数が 𝑛 未満の多項式の係数のリスト\n",
    "\n",
    "def poly_add(f, g, k, p):\n",
    "    add = [] # f+g の係数を入れるためのリストを準備\n",
    "    if len(f) < len(g): # 係数のリストに0を足して、見かけ上はf, gの次数を等しくする\n",
    "        for i in range(len(g)-len(f)):\n",
    "            f.append(0)\n",
    "    elif len(f) > len(g):\n",
    "        for i in range(len(f)-len(g)):\n",
    "            g.append(0)\n",
    "    for i in range(len(f)):\n",
    "        add.append(mod(f[i]+g[i], p))\n",
    "             # g の次数 i の係数 g[i] を f の次数 i の係数に足して mod 計算 \n",
    "    return poly_red(add, k, p)"
   ]
  },
  {
   "cell_type": "code",
   "execution_count": 50,
   "metadata": {},
   "outputs": [],
   "source": [
    "# 2つの多項式の乗法\n",
    "# 入力：𝑘, 𝑝, 多項式 𝑓, 𝑔 の係数のリスト\n",
    "# 出力： 𝑓𝑔 と ⟨Φ_2n ⟩ を法として合同な 次数が 𝑛 未満の多項式の係数のリスト\n",
    "\n",
    "def poly_mult(f, g, k, p):\n",
    "    if len(f) < len(g): # deg(f) < deg(g)=> fとgを入れ替える（簡単化のため deg(f)≧deg(g)とする. fg = gf より入れ替えても問題ない）\n",
    "        # deg(f) < deg(g)=> fとgを入れ替える操作を追加（簡単化のため deg(f)≧deg(g)とする. fg = gf より入れ替えても問題ない）\n",
    "        tmp = f\n",
    "        f = g\n",
    "        g = tmp\n",
    "    mult = [] # fg の係数を入れるためのリストを準備\n",
    "    for d in range(len(g)): # 次数が0～deg(g)までの係数を計算\n",
    "        coef = 0\n",
    "        for i in range(d+1):\n",
    "            coef += f[i]*g[d-i]\n",
    "        mult.append(mod(coef, p))\n",
    "            # 係数を計算して mod して mult に格納\n",
    "    \n",
    "    for d in range(len(g), len(f)): # 次数がdeg(g)+1～deg(f)までの係数を計算(deg(f)=deg(g)の時は実行されない)\n",
    "        coef = 0\n",
    "        for i in range(len(g)):\n",
    "            coef += f[d-i]*g[i]\n",
    "        mult.append(mod(coef, p))\n",
    "            # 係数を計算して mod して mult に格納\n",
    "    \n",
    "    # 次数が deg(f)+1～deg(fg)までの係数を計算\n",
    "    for d in range(len(f), len(f) + len(g) - 1): # deg(f) = len(f)-1, deg(g) = len(g)-1 => deg(fg) = deg(f)+deg(g)=len(f)+len(g)-2\n",
    "        coef = 0\n",
    "        for i in range(d-len(f)+1, len(g)): # d-len(f)+1=d-(len(f)-1)=d-deg(f)\n",
    "            # 係数を計算して mod して mult に格納\n",
    "            coef += f[d-i]*g[i]\n",
    "        mult.append(mod(coef, p))\n",
    "    \n",
    "    return poly_red(mult, k, p)"
   ]
  },
  {
   "cell_type": "code",
   "execution_count": 51,
   "metadata": {},
   "outputs": [
    {
     "name": "stdout",
     "output_type": "stream",
     "text": [
      "fg (mod Φ2n)= [-2, 5, 6, 2, 5, 9, 4, 1]\n",
      "f+g (mod Φ2n)= [4, 4, 6, 6, 6, 4, 9, 8]\n"
     ]
    }
   ],
   "source": [
    "# 関数のテスト\n",
    "k = 3\n",
    "p = 19\n",
    "f = [1,2,3,2,3,1,3,1] # f[i] は f の次数 i の係数\n",
    "g = [3,2,3,4,3,3,6,7] # g[i] は g の次数 i の係数\n",
    "print(\"fg (mod Φ2n)=\", poly_mult(f, g, k, p))\n",
    "print(\"f+g (mod Φ2n)=\", poly_add(f, g, k, p))"
   ]
  },
  {
   "cell_type": "code",
   "execution_count": 52,
   "metadata": {},
   "outputs": [
    {
     "name": "stdout",
     "output_type": "stream",
     "text": [
      "fg (mod Φ2n)= [0, 3, 1, 4, 0, 5, 2, -2]\n",
      "f+g (mod Φ2n)= [4, 4, 8, 6, -2, -5, 5, 8]\n"
     ]
    }
   ],
   "source": [
    "k = 3\n",
    "p = 19\n",
    "f = [1,2,7,2,9,11,3,5]\n",
    "g = [3,2,1,4,8,3,2,3]\n",
    "print(\"fg (mod Φ2n)=\", poly_mult(f, g, k, p))\n",
    "print(\"f+g (mod Φ2n)=\", poly_add(f, g, k, p))"
   ]
  },
  {
   "cell_type": "code",
   "execution_count": 53,
   "metadata": {},
   "outputs": [
    {
     "name": "stdout",
     "output_type": "stream",
     "text": [
      "fg (mod Φ2n)= [-9, 8, 2, 6, -4, -4, -2, 2]\n",
      "f+g (mod Φ2n)= [4, 4, 8, 6, -2, -5, 5, 3]\n"
     ]
    }
   ],
   "source": [
    "k = 3\n",
    "p = 19\n",
    "f = [1,2,7,2,9,11,3]\n",
    "g = [3,2,1,4,8,3,2,3]\n",
    "print(\"fg (mod Φ2n)=\", poly_mult(f, g, k, p))\n",
    "print(\"f+g (mod Φ2n)=\", poly_add(f, g, k, p))"
   ]
  },
  {
   "cell_type": "code",
   "execution_count": 54,
   "metadata": {},
   "outputs": [
    {
     "name": "stdout",
     "output_type": "stream",
     "text": [
      "fg (mod Φ2n)= [-5, -9, -4, -7, -3, 4, 7, 7]\n",
      "f+g (mod Φ2n)= [4, 4, 8, 6, -2, -6, 3]\n"
     ]
    }
   ],
   "source": [
    "k = 3\n",
    "p = 19\n",
    "f = [1,2,7,2,9,11]\n",
    "g = [3,2,1,4,8,2,3]\n",
    "print(\"fg (mod Φ2n)=\", poly_mult(f, g, k, p))\n",
    "print(\"f+g (mod Φ2n)=\", poly_add(f, g, k, p))"
   ]
  }
 ],
 "metadata": {
  "kernelspec": {
   "display_name": "Python 3 (ipykernel)",
   "language": "python",
   "name": "python3"
  },
  "language_info": {
   "codemirror_mode": {
    "name": "ipython",
    "version": 3
   },
   "file_extension": ".py",
   "mimetype": "text/x-python",
   "name": "python",
   "nbconvert_exporter": "python",
   "pygments_lexer": "ipython3",
   "version": "3.9.18"
  }
 },
 "nbformat": 4,
 "nbformat_minor": 2
}
