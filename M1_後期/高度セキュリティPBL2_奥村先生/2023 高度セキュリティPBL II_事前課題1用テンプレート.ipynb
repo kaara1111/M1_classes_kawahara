{
 "cells": [
  {
   "cell_type": "code",
   "execution_count": 12,
   "metadata": {},
   "outputs": [],
   "source": [
    "# Euclid algorithm\n",
    "# input: two integers a, b\n",
    "# output: gcd(a, b) \n",
    "def euclid(a, b):\n",
    "    a, b = abs(a), abs(b)\n",
    "    while b != 0: \n",
    "        a, b = b, a % b\n",
    "    return a"
   ]
  },
  {
   "cell_type": "code",
   "execution_count": 13,
   "metadata": {},
   "outputs": [],
   "source": [
    "# Extended Euclid Algorithm\n",
    "# input: Two integers a, b\n",
    "# output: d=gcd(a, b) and two integers x, y satifying ax+by = d\n",
    "import numpy as np\n",
    "\n",
    "def ex_euclid(a, b):\n",
    "    a0, b0 = abs(a), abs(b)\n",
    "    x0, x1 = 1, 0\n",
    "    y0, y1 = 0, 1\n",
    "    while b0 != 0:\n",
    "        r = a0 % b0\n",
    "        q = (a0-r)//b0\n",
    "        x0, x1 = x1, x0 - q * x1\n",
    "        y0, y1 = y1, y0 - q * y1\n",
    "        a0, b0 = b0, r\n",
    "    return [a0, np.sign(a)*x0, np.sign(b)*y0]"
   ]
  },
  {
   "cell_type": "code",
   "execution_count": 14,
   "metadata": {},
   "outputs": [],
   "source": [
    "# Solve ax≡1 (mod. n) ( inversion of mod n)\n",
    "# input: integers a, n (n > 0)\n",
    "# output: integer x satifying ax≡1 (mod. n) (x>0)\n",
    "import sys # \n",
    "def inv(a, n):\n",
    "    if euclid(a, n) > 1:\n",
    "        sys.stderr.write('gcd(a, n) is not 1') # there is nosolution if gcd(a, n)>1\n",
    "        return None\n",
    "    _, x, _ = ex_euclid(a, n)\n",
    "    return x % n"
   ]
  },
  {
   "cell_type": "code",
   "execution_count": 15,
   "metadata": {},
   "outputs": [],
   "source": [
    "# mod binary method\n",
    "# input: integers g, k, n (k, n > 0)\n",
    "# output: g^k (mod. n)\n",
    "def mod_binary(g,k,n):\n",
    "    bk = bin(k)[2:]\n",
    "    y = 1\n",
    "    for i in bk:\n",
    "        y = (y*y) % n\n",
    "        if i == '1':\n",
    "            y = (y*g) % n \n",
    "    return y"
   ]
  },
  {
   "cell_type": "code",
   "execution_count": 16,
   "metadata": {},
   "outputs": [],
   "source": [
    "# Fermat test\n",
    "# input: integers n, a (gcd(a, n)=1)\n",
    "# output: True or False\n",
    "import random\n",
    "def fermat_test(a, n):\n",
    "    return mod_binary(a, n-1, n) == 1"
   ]
  },
  {
   "cell_type": "code",
   "execution_count": 17,
   "metadata": {},
   "outputs": [],
   "source": [
    "# Prime number generator\n",
    "# input : iv, k (iv: initial value)\n",
    "# output : prime number equal or larger than iv\n",
    "def prime_gen(iv):\n",
    "    k = 5\n",
    "    p = iv\n",
    "    if p == 2:\n",
    "        return p\n",
    "    if p % 2 == 0:\n",
    "        p += 1\n",
    "    while True:\n",
    "        A = []\n",
    "        for i in range(k):\n",
    "            a = random.randrange(2, p)\n",
    "            while a in A:\n",
    "                a = random.randrange(2, p)\n",
    "            A.append(a)\n",
    "            if euclid(a, p) != 1:\n",
    "                break\n",
    "            if fermat_test(a, p) == False:\n",
    "                break\n",
    "            if i == k - 1:\n",
    "                return p\n",
    "        p += 2"
   ]
  },
  {
   "cell_type": "code",
   "execution_count": 18,
   "metadata": {},
   "outputs": [],
   "source": [
    "# generate k bit prime number\n",
    "# input: k\n",
    "# output: prime number of k bit\n",
    "import sympy\n",
    "def prime_gen2(k):\n",
    "    k2 = 5\n",
    "    p_iv = random.randrange(1<<(k-1), 1<<k)\n",
    "    p = prime_gen(p_iv)\n",
    "    \n",
    "    while sympy.isprime(p) == False or p.bit_length() != k:\n",
    "        p_iv = random.randrange(1<<(k-1), 1<<k)\n",
    "        p = prime_gen(p_iv)\n",
    "        \n",
    "    return p"
   ]
  },
  {
   "cell_type": "code",
   "execution_count": 19,
   "metadata": {},
   "outputs": [],
   "source": [
    "# Paillier key generation\n",
    "# Input: natural number k\n",
    "# Output: public key n=pq (p and q are k bit prime numbers), g, secret key,lam, mu\n",
    "import random\n",
    "def L(u, n):\n",
    "    return (u-1)//n\n",
    "\n",
    "def paillier_keygen(k):\n",
    "    p = prime_gen2(k)\n",
    "    q = prime_gen2(k)\n",
    "    while p == q:\n",
    "        p = prime_gen2(k)\n",
    "        q = prime_gen2(k)\n",
    "   # 残りを実装"
   ]
  },
  {
   "cell_type": "code",
   "execution_count": 20,
   "metadata": {},
   "outputs": [],
   "source": [
    "# Paillier encryption\n",
    "# Input: public key n, g, plaintext m\n",
    "# Output: ciphertext c\n",
    "import random\n",
    "def paillier_enc(m, g, n):    \n"
   ]
  },
  {
   "cell_type": "code",
   "execution_count": 21,
   "metadata": {},
   "outputs": [],
   "source": [
    "# Paillier decryption\n",
    "# Input: secret key lam, mu, ciphertext c, public key n\n",
    "# Output: plaintext m\n",
    "import random\n",
    "def paillier_dec(c, lam, mu, n):\n"
   ]
  },
  {
   "cell_type": "code",
   "execution_count": 22,
   "metadata": {},
   "outputs": [],
   "source": [
    "def b_adic_exp(a, b): # a の b進展開（の係数）を求める関数\n",
    "    coef = []\n",
    "    q, r = divmod(a, b) # r = a0\n",
    "    coef.append(r)\n",
    "    while q > 0:\n",
    "        q, r = divmod(q, b) # r = ai\n",
    "        coef.append(r)\n",
    "    return coef"
   ]
  },
  {
   "cell_type": "code",
   "execution_count": null,
   "metadata": {},
   "outputs": [],
   "source": [
    "# Electronic voting\n",
    "# public key (n, g)\n",
    "n = 14851316629936325549526895884387453960332020067987065374621829990934473638890943722227167644834692680931014909295648655184497264230452941128458668967319467707506349696580566569764065113971251611135098208506873536893705132816211738700027482276178191636658906655298091255820107999310986062364063808397709828598234223229690382045287454607209489626008540757638333339785607813734380050543374480346863417661094823945610662512298856103111253619455283715452546478964876557938303554367446553816432618958456180631323227217967937348227947371019390738908230455512747058607839743002544543443553991934329038466233229059465559608813\n",
    "g = 14851316629936325549526895884387453960332020067987065374621829990934473638890943722227167644834692680931014909295648655184497264230452941128458668967319467707506349696580566569764065113971251611135098208506873536893705132816211738700027482276178191636658906655298091255820107999310986062364063808397709828598234223229690382045287454607209489626008540757638333339785607813734380050543374480346863417661094823945610662512298856103111253619455283715452546478964876557938303554367446553816432618958456180631323227217967937348227947371019390738908230455512747058607839743002544543443553991934329038466233229059465559608814\n",
    "\n",
    "# secret key (ld, mu) ld : λ\n",
    "ld = 14851316629936325549526895884387453960332020067987065374621829990934473638890943722227167644834692680931014909295648655184497264230452941128458668967319467707506349696580566569764065113971251611135098208506873536893705132816211738700027482276178191636658906655298091255820107999310986062364063808397709828597990414514428917531828918636838515639841971397755638424273699272691621347865190755651414684230341999893802269654746188749338811945156456453322503926876020528496974472470756870120002876726060253372633896975185554315813410915533863995880846408774424699428217497074928707915335637446406569355358894564266796253308\n",
    "mu = 7922065339641043470821418244068578562561166964112979165085267373492974265556451288630810639862972936679959766963839629610947072028061470519903481209609031677169681247340320212801612806646742716047597246411989818382832062519240142580488311060859829756502324549748568996700542837376770803386879043997009663877455003254085820552000228163995683358639484497347390557845377421907051256502782630513364794142561518759041235440247616436715659017682705465387505388682524926355986026632711459894932915617966960984427035309138168768297686775122663419966662716079799869827416988766645896729930874264104417032013906683640317436564\n",
    "\n",
    "# p, q : primes, n=pq\n",
    "p = 118845635769375091783398155889844039229715242664853583150715493743942900870631416958266065146744024436474060856511234891274995498307436222376819230362939649117414598325105958170986610833047899334559853466096168252384133000988434681205957598028527676535526571476774180029668814889762391203539001058502596837739\n",
    "q = 124963079492089421675137814481129946936854117217841332361193047298815801807552307737182668284008799615334332001041432462497446175991391039753223321725916380323914483571583725525443131399348027924129476776686214780030403454497092061821426448709794682644095674450841655498549539598160077907335333436696166517767\n",
    "b = 1591\n",
    "k = 1590 # the number of voters\n",
    "l = 17 # the number of candidates\n",
    "n2 = n**2\n",
    "\n",
    "# Get voting date\n",
    "import csv\n",
    "with open(\"電子投票の暗号化データ.csv\", newline='') as csvfile:\n",
    "    reader = csv.DictReader(csvfile)\n",
    "    Vc = [int(row[\"暗号化された投票結果\"]) for row in reader] \n",
    "    Cm = 1\n",
    "    for vc in Vc:\n",
    "        Cm = Cm*vc % n2\n",
    "    M = paillier_dec(Cm, ld, mu, n)\n",
    "# result\n",
    "result = b_adic_exp(M, b)\n",
    "print(\"1番多い得票数=\", max(result))\n",
    "print(\"投票結果=\", result)"
   ]
  }
 ],
 "metadata": {
  "kernelspec": {
   "display_name": "Python 3 (ipykernel)",
   "language": "python",
   "name": "python3"
  },
  "language_info": {
   "codemirror_mode": {
    "name": "ipython",
    "version": 3
   },
   "file_extension": ".py",
   "mimetype": "text/x-python",
   "name": "python",
   "nbconvert_exporter": "python",
   "pygments_lexer": "ipython3",
   "version": "3.11.4"
  }
 },
 "nbformat": 4,
 "nbformat_minor": 2
}
