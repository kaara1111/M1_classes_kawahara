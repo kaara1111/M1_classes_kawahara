{
  "cells": [
    {
      "cell_type": "code",
      "execution_count": 23,
      "metadata": {
        "id": "x0AkNbsuEMnF"
      },
      "outputs": [],
      "source": [
        "import numpy as np\n",
        "import hashlib\n",
        "import time\n",
        "import math\n",
        "\n",
        "#バイナリ法\n",
        "def mod_binary(g, k, p):\n",
        "     bk = bin(k)[2:]\n",
        "     y = 1\n",
        "     for i in bk:\n",
        "        y = pow(y, 2, p)\n",
        "        if i == '1':\n",
        "            y = (y*g) % p\n",
        "     return y\n",
        "\n",
        "#ユークリッドの互除法\n",
        "def euclid(a, b):\n",
        "    r = a % b\n",
        "    while r != 0:\n",
        "        a, b = b, r\n",
        "        r = a % b\n",
        "    return b\n",
        "\n",
        "def ex_euclid(a, b):\n",
        "    x0, x1 = 1, 0\n",
        "    y0, y1 = 0, 1\n",
        "    while b != 0:\n",
        "        q, r = divmod(a, b)\n",
        "        x0, x1 = x1, x0 - q * x1\n",
        "        y0, y1 = y1, y0 - q * y1\n",
        "        a, b = b, r\n",
        "    return [x0, y0, a]\n",
        "\n",
        "#逆元計算\n",
        "def inv(a, n):\n",
        "    inv_x0, inv_y0, b= ex_euclid(a, n)\n",
        "    return inv_x0 % n\n",
        "\n",
        "#最小公倍数\n",
        "def lcm(a, b):\n",
        "  return a*b/euclid(a, b)\n",
        "\n",
        "#rsa暗号-鍵生成\n",
        "def rsaKeygen(p, q):\n",
        "  lam = lcm(p-1, q-1)\n",
        "  e = Fermat(10, 1024, 1)[0]\n",
        "  n = p * q\n",
        "  d = inv(e, lam)\n",
        "  return [e, n, d]\n",
        "\n",
        "#rsa暗号-暗号化\n",
        "def rsaEnc(m, n, e):#m(メッセージ):整数, #(n, e):公開鍵\n",
        "  c = mod_binary(m, e, n)\n",
        "  return c\n",
        "\n",
        "#rsa暗号-復号\n",
        "def rsaDec(c, n, d):\n",
        "  m = mod_binary(c, d, n)\n",
        "  return m\n",
        "\n",
        "#RSA署名鍵生成\n",
        "def rsaSignGenKey(p, q, e):\n",
        "  n = p * q\n",
        "  d = inv(e, lcm(p-1, q-1))\n",
        "  return [n, e], d\n",
        "\n",
        "#RSA署名生成関数\n",
        "def rsaSignGen(m, d, n):\n",
        "  return mod_binary(shake128(m, 127), d, n)\n",
        "\n",
        "#RSA署名検証関数\n",
        "def rsaSignVerify(m, sigma, e, n):\n",
        "  return shake128(m, 127) == mod_binary(sigma, e, n)\n",
        "\n",
        "def str_to_int(m):\n",
        "    m_b = m.encode('cp932')\n",
        "    m_int = int.from_bytes(m_b, \"big\")\n",
        "    return m_int\n",
        "\n",
        "def int_to_str(m):\n",
        "  length = math.ceil(int.bit_length(m)/8)\n",
        "  m_b = m.to_bytes(length, \"big\")\n",
        "  m_str = m_b.decode('cp932')\n",
        "  return m_str\n",
        "\n",
        "# Input: メッセージ: m (文字列), ハッシュ値のサイズ: h_size (バイト)\n",
        "# Output: m のshake128によるハッシュ値（整数値）\n",
        "def shake128(m, h_size):\n",
        "    mh = hashlib.shake_128(m.encode()).hexdigest(h_size)\n",
        "    return int(mh, 16)\n",
        "\n"
      ]
    },
    {
      "cell_type": "code",
      "execution_count": 24,
      "metadata": {
        "colab": {
          "base_uri": "https://localhost:8080/"
        },
        "id": "Xoon8MSBEfdl",
        "outputId": "f422c6b5-95ad-4352-814e-81f984522e86"
      },
      "outputs": [
        {
          "name": "stdout",
          "output_type": "stream",
          "text": [
            "暗号化結果：27659542603684648283959164811331828178601643720953424297316861167846127063075439085360665523843957554821252613403839509180182915076600117539083678911048136089115216887083307963928653926862600834949879031236660644703267170736109179614139247921948758281694517640006863801351608959024536700985088839464839867144\n",
            "署名結果：90001397255603635812488292559780329803653271990009420254489329205107543976763363478875321654797253455832637435537336323934575631714599152132624694595439721399189806985377751142975249098005161223287122848827154402826264366249495431783082965855953561718875792295805084863760660876501659958573541942431165401681\n"
          ]
        }
      ],
      "source": [
        "m32 = '大変興味深かった.'\n",
        "m32int = str_to_int(m32)\n",
        "#特に記載がなかったので(n, d)は表D.9の値を使用しました.\n",
        "d = 131443304793927428151332221511108704880067947255385616574001106543358350512695028610591682664665998149759408723503668627360294194220319028140588345821358616727028325663441231913951992382845289448473974065202883492432548694746970307278305986911096630577768359426701452770550634580605686885500693045782534383513\n",
        "n =  151688675229435144545762630765513843840905318881426433410993317829407927761058180842619248226698635688339185939641837133849473509537190493876558169045507678528180233325144584382935801344398779896870342021499422411253803876549156126455881007490336116762896649111675339984255409282034328119927716206914899875961\n",
        "#(n, e)\n",
        "pk_kawahara = [69179065868980767651505682212128103059156904708577280552708201801233407073165594460573526256104767274049921556957457159754595905781553144753550859791391645577404627016846972912032792419231368409024280895909536375867295542657404819386276005111369198385611268710168382234914840652752969638548435338458341587443,65537]\n",
        "enc_m32 = rsaEnc(m32int, pk_kawahara[0], pk_kawahara[1])\n",
        "print('暗号化結果：{}'.format(enc_m32))\n",
        "sign_m32 = rsaSignGen(m32, d, n)\n",
        "print(\"署名結果：{}\".format(sign_m32))"
      ]
    },
    {
      "cell_type": "code",
      "execution_count": 25,
      "metadata": {
        "id": "b41eyH7ZHrn4"
      },
      "outputs": [
        {
          "ename": "UnicodeDecodeError",
          "evalue": "'cp932' codec can't decode byte 0xec in position 7: illegal multibyte sequence",
          "output_type": "error",
          "traceback": [
            "\u001b[1;31m---------------------------------------------------------------------------\u001b[0m",
            "\u001b[1;31mUnicodeDecodeError\u001b[0m                        Traceback (most recent call last)",
            "\u001b[1;32mc:\\Users\\owner\\Downloads\\OE_yamada_32.ipynb Cell 3\u001b[0m in \u001b[0;36m<cell line: 2>\u001b[1;34m()\u001b[0m\n\u001b[0;32m      <a href='vscode-notebook-cell:/c%3A/Users/owner/Downloads/OE_yamada_32.ipynb#W2sZmlsZQ%3D%3D?line=0'>1</a>\u001b[0m m_dec \u001b[39m=\u001b[39m rsaDec(enc_m32, n, d)\n\u001b[1;32m----> <a href='vscode-notebook-cell:/c%3A/Users/owner/Downloads/OE_yamada_32.ipynb#W2sZmlsZQ%3D%3D?line=1'>2</a>\u001b[0m m \u001b[39m=\u001b[39m int_to_str(m_dec)\n",
            "\u001b[1;32mc:\\Users\\owner\\Downloads\\OE_yamada_32.ipynb Cell 3\u001b[0m in \u001b[0;36mint_to_str\u001b[1;34m(m)\u001b[0m\n\u001b[0;32m     <a href='vscode-notebook-cell:/c%3A/Users/owner/Downloads/OE_yamada_32.ipynb#W2sZmlsZQ%3D%3D?line=80'>81</a>\u001b[0m length \u001b[39m=\u001b[39m math\u001b[39m.\u001b[39mceil(\u001b[39mint\u001b[39m\u001b[39m.\u001b[39mbit_length(m)\u001b[39m/\u001b[39m\u001b[39m8\u001b[39m)\n\u001b[0;32m     <a href='vscode-notebook-cell:/c%3A/Users/owner/Downloads/OE_yamada_32.ipynb#W2sZmlsZQ%3D%3D?line=81'>82</a>\u001b[0m m_b \u001b[39m=\u001b[39m m\u001b[39m.\u001b[39mto_bytes(length, \u001b[39m\"\u001b[39m\u001b[39mbig\u001b[39m\u001b[39m\"\u001b[39m)\n\u001b[1;32m---> <a href='vscode-notebook-cell:/c%3A/Users/owner/Downloads/OE_yamada_32.ipynb#W2sZmlsZQ%3D%3D?line=82'>83</a>\u001b[0m m_str \u001b[39m=\u001b[39m m_b\u001b[39m.\u001b[39;49mdecode(\u001b[39m'\u001b[39;49m\u001b[39mcp932\u001b[39;49m\u001b[39m'\u001b[39;49m)\n\u001b[0;32m     <a href='vscode-notebook-cell:/c%3A/Users/owner/Downloads/OE_yamada_32.ipynb#W2sZmlsZQ%3D%3D?line=83'>84</a>\u001b[0m \u001b[39mreturn\u001b[39;00m m_str\n",
            "\u001b[1;31mUnicodeDecodeError\u001b[0m: 'cp932' codec can't decode byte 0xec in position 7: illegal multibyte sequence"
          ]
        }
      ],
      "source": [
        "m_dec = rsaDec(enc_m32, n, d)\n",
        "m = int_to_str(m_dec)\n",
        "# dec_m = rsaDec(enc_m32,n,d)\n",
        "# dec_m = dec_m.to_bytes((dec_m.bit_length() + 7) // 8, byteorder='big')\n",
        "# m = dec_m.decode()"
      ]
    }
  ],
  "metadata": {
    "colab": {
      "provenance": []
    },
    "kernelspec": {
      "display_name": "Python 3",
      "name": "python3"
    },
    "language_info": {
      "codemirror_mode": {
        "name": "ipython",
        "version": 3
      },
      "file_extension": ".py",
      "mimetype": "text/x-python",
      "name": "python",
      "nbconvert_exporter": "python",
      "pygments_lexer": "ipython3",
      "version": "3.9.12"
    }
  },
  "nbformat": 4,
  "nbformat_minor": 0
}
