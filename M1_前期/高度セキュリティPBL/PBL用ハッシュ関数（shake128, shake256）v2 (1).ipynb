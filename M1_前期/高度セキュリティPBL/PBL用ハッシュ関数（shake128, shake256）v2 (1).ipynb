{
 "cells": [
  {
   "cell_type": "code",
   "execution_count": 4,
   "metadata": {},
   "outputs": [],
   "source": [
    "import hashlib, math\n",
    "# ハッシュ関数Shake128によるハッシュ値の計算\n",
    "# Input: メッセージ m (通常の文字列), ベースポイントの位数 l (整数)\n",
    "# Output: shake128による m のハッシュ値 (16進文字列)\n",
    "def shake128(m, l):\n",
    "    return hashlib.shake_128(m.encode('utf-8')).hexdigest(math.ceil(l.bit_length()/8)-1)"
   ]
  },
  {
   "cell_type": "code",
   "execution_count": 5,
   "metadata": {},
   "outputs": [],
   "source": [
    "import hashlib\n",
    "# ハッシュ関数Shake256によるハッシュ値の計算\n",
    "# Input: メッセージ m (通常の文字列), ベースポイントの位数 l (整数)\n",
    "# Output: shake256による m のハッシュ値 (16進文字列)\n",
    "def shake256(m, l):\n",
    "    return hashlib.shake_256(m.encode('utf-8')).hexdigest(math.ceil(l.bit_length()/8)-1)"
   ]
  },
  {
   "cell_type": "code",
   "execution_count": null,
   "metadata": {},
   "outputs": [],
   "source": []
  }
 ],
 "metadata": {
  "kernelspec": {
   "display_name": "Python 3",
   "language": "python",
   "name": "python3"
  },
  "language_info": {
   "codemirror_mode": {
    "name": "ipython",
    "version": 3
   },
   "file_extension": ".py",
   "mimetype": "text/x-python",
   "name": "python",
   "nbconvert_exporter": "python",
   "pygments_lexer": "ipython3",
   "version": "3.7.5"
  }
 },
 "nbformat": 4,
 "nbformat_minor": 2
}
