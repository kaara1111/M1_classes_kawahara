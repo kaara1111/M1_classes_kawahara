{
 "cells": [
  {
   "cell_type": "code",
   "execution_count": 10,
   "metadata": {},
   "outputs": [],
   "source": [
    "import time\n",
    "def Mod(a, b):\n",
    "    return a%b\n",
    "\n",
    "def mod_binary(g, k, n, p):\n",
    "    y=1\n",
    "    k = str(bin(k))[2:]\n",
    "\n",
    "    mult_num = 0\n",
    "    ts = time.time()\n",
    "    for i in k:\n",
    "        if i=='1':\n",
    "            y = Mod(Mod(y**2, p)*g, p)\n",
    "            mult_num += 1\n",
    "            # print(y)\n",
    "        else:\n",
    "            y = Mod(y**2, p)\n",
    "            # print(y)\n",
    "    te = time.time()\n",
    "    return y, mult_num, te-ts\n",
    "\n",
    "def inv(a, n):\n",
    "    # return a^-1 mod n\n",
    "    return mod_binary(a, n-2, len(str(bin(n-2))[2:]) , n)"
   ]
  },
  {
   "cell_type": "code",
   "execution_count": 11,
   "metadata": {},
   "outputs": [
    {
     "name": "stdout",
     "output_type": "stream",
     "text": [
      "max: 8\n",
      "min: 8\n",
      "avg: 8.0\n",
      "var: 0.0\n"
     ]
    }
   ],
   "source": [
    "#(1)\n",
    "import random\n",
    "p = 2**12-77\n",
    "mult_num_lst = []\n",
    "for i in range(1000):\n",
    "    a = random.randint(1, p-1)\n",
    "    _, mult_num, _ = inv(a, p)\n",
    "    mult_num_lst.append(mult_num)\n",
    "print(\"max:\", max(mult_num_lst))\n",
    "print(\"min:\", min(mult_num_lst))\n",
    "print(\"avg:\", sum(mult_num_lst)/len(mult_num_lst))\n",
    "print(\"var:\", sum([(i-sum(mult_num_lst)/len(mult_num_lst))**2 for i in mult_num_lst])/len(mult_num_lst))\n"
   ]
  },
  {
   "cell_type": "code",
   "execution_count": 12,
   "metadata": {},
   "outputs": [
    {
     "name": "stdout",
     "output_type": "stream",
     "text": [
      "avg: 0.00024645392894744874\n",
      "var: 1.8529378458612446e-07\n"
     ]
    }
   ],
   "source": [
    "# (2)\n",
    "p = 115792089210356248762697446949407573530086143415290314195533631308867097853951\n",
    "time_lst = []\n",
    "for i in range(10000):\n",
    "    a = random.randint(1, p-1)\n",
    "    _, _, t = inv(a, p)\n",
    "    time_lst.append(t)\n",
    "print(\"avg:\", sum(time_lst)/len(time_lst))\n",
    "print(\"var:\", sum([(i-sum(time_lst)/len(time_lst))**2 for i in time_lst])/len(time_lst))"
   ]
  },
  {
   "cell_type": "code",
   "execution_count": null,
   "metadata": {},
   "outputs": [],
   "source": [
    "#(3),(4)\n",
    "#バイナリユークリッドの互除法ではpだけでなくaの値によっても乗算回数が変化するが，フェルマー法ではaの値によらず乗算回数は一定である．"
   ]
  }
 ],
 "metadata": {
  "kernelspec": {
   "display_name": "py38",
   "language": "python",
   "name": "python3"
  },
  "language_info": {
   "codemirror_mode": {
    "name": "ipython",
    "version": 3
   },
   "file_extension": ".py",
   "mimetype": "text/x-python",
   "name": "python",
   "nbconvert_exporter": "python",
   "pygments_lexer": "ipython3",
   "version": "3.9.12"
  },
  "orig_nbformat": 4
 },
 "nbformat": 4,
 "nbformat_minor": 2
}
