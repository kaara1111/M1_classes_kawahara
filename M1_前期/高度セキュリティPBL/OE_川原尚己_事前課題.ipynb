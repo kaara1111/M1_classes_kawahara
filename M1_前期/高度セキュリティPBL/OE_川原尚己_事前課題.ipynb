{
 "cells": [
  {
   "cell_type": "code",
   "execution_count": 1,
   "metadata": {},
   "outputs": [
    {
     "name": "stdout",
     "output_type": "stream",
     "text": [
      "6576\n"
     ]
    }
   ],
   "source": [
    "#事前課題(1)\n",
    "import sympy as sp\n",
    "def Euler_phi(n):\n",
    "    ans_lst = []\n",
    "    for x in range(1, n):\n",
    "        if sp.gcd(x, n) == 1:\n",
    "            ans_lst.append(x)\n",
    "    return len(ans_lst)\n",
    "\n",
    "print(Euler_phi(12345))"
   ]
  },
  {
   "cell_type": "code",
   "execution_count": 3,
   "metadata": {},
   "outputs": [
    {
     "name": "stdout",
     "output_type": "stream",
     "text": [
      "[(947, -13878), (12896, -188987), (24845, -364096), (36794, -539205), (48743, -714314), (60692, -889423), (72641, -1064532), (84590, -1239641), (96539, -1414750), (108488, -1589859), (120437, -1764968), (132386, -1940077), (144335, -2115186), (156284, -2290295), (168233, -2465404), (180182, -2640513), (192131, -2815622), (204080, -2990731), (216029, -3165840), (227978, -3340949), (239927, -3516058), (251876, -3691167), (263825, -3866276), (275774, -4041385), (287723, -4216494), (299672, -4391603), (311621, -4566712), (323570, -4741821), (335519, -4916930), (347468, -5092039), (359417, -5267148), (371366, -5442257), (383315, -5617366), (395264, -5792475), (407213, -5967584), (419162, -6142693), (431111, -6317802), (443060, -6492911), (455009, -6668020), (466958, -6843129), (478907, -7018238), (490856, -7193347), (502805, -7368456), (514754, -7543565), (526703, -7718674), (538652, -7893783), (550601, -8068892), (562550, -8244001), (574499, -8419110), (586448, -8594219), (598397, -8769328), (610346, -8944437), (622295, -9119546), (634244, -9294655), (646193, -9469764), (658142, -9644873), (670091, -9819982), (682040, -9995091), (693989, -10170200), (705938, -10345309), (717887, -10520418), (729836, -10695527), (741785, -10870636), (753734, -11045745), (765683, -11220854), (777632, -11395963), (789581, -11571072), (801530, -11746181), (813479, -11921290), (825428, -12096399), (837377, -12271508), (849326, -12446617), (861275, -12621726), (873224, -12796835), (885173, -12971944), (897122, -13147053), (909071, -13322162), (921020, -13497271), (932969, -13672380), (944918, -13847489), (956867, -14022598), (968816, -14197707), (980765, -14372816), (992714, -14547925), (1004663, -14723034), (1016612, -14898143), (1028561, -15073252), (1040510, -15248361), (1052459, -15423470), (1064408, -15598579), (1076357, -15773688), (1088306, -15948797), (1100255, -16123906), (1112204, -16299015), (1124153, -16474124), (1136102, -16649233), (1148051, -16824342), (1160000, -16999451), (1171949, -17174560), (1183898, -17349669)]\n"
     ]
    }
   ],
   "source": [
    "#事前課題(2)\n",
    "def solve_diophauntus(a, b, k):\n",
    "    ans_lst = []\n",
    "    x0, y0, _ = sp.gcdex(a, b)\n",
    "    a0, b0 = a // sp.gcd(a, b), b // sp.gcd(a, b)\n",
    "    for i in range(k):\n",
    "        xi, yi = x0 + b0 * i, y0 - a0 * i\n",
    "        ans_lst.append((xi, yi))\n",
    "    return ans_lst\n",
    "\n",
    "print(solve_diophauntus(525327, 35847, 100))"
   ]
  },
  {
   "cell_type": "code",
   "execution_count": 4,
   "metadata": {},
   "outputs": [
    {
     "name": "stdout",
     "output_type": "stream",
     "text": [
      "5\n"
     ]
    }
   ],
   "source": [
    "#事前課題(3)\n",
    "import sys\n",
    "def min_primitive_root(p):\n",
    "    a = 1\n",
    "    while a<p:\n",
    "        flag = 0\n",
    "        for k in range(1, p-1):\n",
    "            if (a**k)%p==1:\n",
    "            # if pow(a, k, p)==1:\n",
    "                a += 1\n",
    "                flag = 1\n",
    "                break\n",
    "        if flag==0:\n",
    "            return a\n",
    "            sys.exit()\n",
    "\n",
    "a = min_primitive_root(10007)\n",
    "print(a)"
   ]
  },
  {
   "cell_type": "code",
   "execution_count": 5,
   "metadata": {},
   "outputs": [],
   "source": [
    "import math\n",
    "import csv\n",
    "def prime_thm():\n",
    "    ratio13, ratio23 = [], []\n",
    "    with open(\"prime_thm1.csv\", \"w\", newline=\"\") as f1:\n",
    "        writer1 = csv.writer(f1)\n",
    "        with open(\"prime_thm2.csv\", \"w\", newline=\"\") as f2:\n",
    "            writer2 = csv.writer(f2)\n",
    "            for x in range(7, 1000000):\n",
    "                lst_prime = []\n",
    "                pi, pi_13, pi_23 = 0, 0, 0\n",
    "                for i in range(1, x+1):\n",
    "                    if sp.isprime(i):\n",
    "                        lst_prime.append(i)\n",
    "                        pi+=1\n",
    "                for i in lst_prime:\n",
    "                    if (i-1)%3==0:\n",
    "                        pi_13+=1\n",
    "                    if (i-2)%3==0:\n",
    "                        pi_23+=1\n",
    "                writer1.writerow([pi/pi_13])\n",
    "                writer2.writerow([pi/pi_23])"
   ]
  },
  {
   "cell_type": "code",
   "execution_count": 6,
   "metadata": {},
   "outputs": [],
   "source": [
    "prime_thm()"
   ]
  },
  {
   "cell_type": "code",
   "execution_count": 27,
   "metadata": {},
   "outputs": [],
   "source": [
    "ratio13, ratio23 = [], []\n",
    "with open(\"prime_thm1.csv\", \"r\") as f1:\n",
    "    reader = csv.reader(f1)\n",
    "    for row in reader:\n",
    "        ratio13.append(float(row[0]))\n",
    "with open(\"prime_thm2.csv\", \"r\") as f2:\n",
    "    reader = csv.reader(f2)\n",
    "    for row in reader:\n",
    "        ratio23.append(float(row[0]))"
   ]
  },
  {
   "cell_type": "code",
   "execution_count": 28,
   "metadata": {},
   "outputs": [
    {
     "data": {
      "image/png": "[encoded data removed]",
      "text/plain": [
       "<Figure size 432x288 with 1 Axes>"
      ]
     },
     "metadata": {
      "needs_background": "light"
     },
     "output_type": "display_data"
    },
    {
     "data": {
      "image/png": "[encoded data removed]",
      "text/plain": [
       "<Figure size 432x288 with 1 Axes>"
      ]
     },
     "metadata": {
      "needs_background": "light"
     },
     "output_type": "display_data"
    }
   ],
   "source": [
    "import matplotlib.pyplot as plt\n",
    "import numpy as np\n",
    "x = np.linspace(1,1000000, len(ratio13))\n",
    "plt.plot(x, ratio13)\n",
    "plt.title(\"Theorem on arithmetric progressions\")\n",
    "plt.show()\n",
    "\n",
    "x = np.linspace(1,1000000, len(ratio23))\n",
    "plt.plot(x, ratio23)\n",
    "plt.title(\"Theorem on arithmetric progressions\")\n",
    "plt.show()"
   ]
  },
  {
   "cell_type": "code",
   "execution_count": null,
   "metadata": {},
   "outputs": [],
   "source": []
  },
  {
   "cell_type": "code",
   "execution_count": null,
   "metadata": {},
   "outputs": [],
   "source": []
  }
 ],
 "metadata": {
  "kernelspec": {
   "display_name": "Python 3",
   "language": "python",
   "name": "python3"
  },
  "language_info": {
   "codemirror_mode": {
    "name": "ipython",
    "version": 3
   },
   "file_extension": ".py",
   "mimetype": "text/x-python",
   "name": "python",
   "nbconvert_exporter": "python",
   "pygments_lexer": "ipython3",
   "version": "3.9.18"
  }
 },
 "nbformat": 4,
 "nbformat_minor": 4
}
