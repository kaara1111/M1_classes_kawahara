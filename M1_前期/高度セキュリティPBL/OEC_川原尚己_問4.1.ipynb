{
 "cells": [
  {
   "cell_type": "code",
   "execution_count": 1,
   "metadata": {},
   "outputs": [],
   "source": [
    "import sys\n",
    "import sympy as sp\n",
    "def Mod(a, b):\n",
    "    return a%b\n",
    "\n",
    "def mod_binary(g, k, n, p):\n",
    "    y=1\n",
    "    k = str(bin(k))[2:]\n",
    "    for i in k:\n",
    "        if i=='1':\n",
    "            y = Mod(Mod(y**2, p)*g, p)\n",
    "            # print(y)\n",
    "        else:\n",
    "            y = Mod(y**2, p)\n",
    "            # print(y)\n",
    "    return y\n",
    "\n",
    "def inv(a, n):\n",
    "    # return a^-1 mod n\n",
    "    return mod_binary(a, n-2, len(str(bin(n-2))[2:]) , n)\n",
    "def rho_method2(g, h, p, l, a0, b0, d):\n",
    "    def random_walk(g, h, p, l, a, b, x):\n",
    "        if x % 3 ==0:\n",
    "            a = (a+1) % l\n",
    "            x = (x*g) % p\n",
    "        elif x % 3 == 1:\n",
    "            b = (b+1) % l\n",
    "            x = (x*h) % p\n",
    "        else:\n",
    "            a = (a*2) % l\n",
    "            b = (b*2) % l\n",
    "            x = (x*x) % p\n",
    "        return [a, b, x]\n",
    "    \n",
    "    def calculate_dl(g, h, p, l, a, b):\n",
    "        a = l-a\n",
    "        x, y, d = sp.gcdex(b, l)\n",
    "        if a % d != 0:\n",
    "            sys.stderr.write(\"can not solve\")\n",
    "            return None\n",
    "        a, b, l = a//d, b//d, l//d\n",
    "        x0 = x * a % l\n",
    "        for _ in range(d):\n",
    "            if mod_binary(g, x0, len(str(bin(x0))[2:]), p) == h:\n",
    "                return x0\n",
    "            x0 += l\n",
    "        return None\n",
    "\n",
    "    cnt = 0\n",
    "    dict_x = dict()\n",
    "    x0 = (mod_binary(g, a0, len(str(bin(p))[2:]), p) * mod_binary(h, b0, len(str(bin(p))[2:]), p)) % p\n",
    "    dict_x[x0] = a0, b0\n",
    "    while True:\n",
    "        [a0, b0, x0] = random_walk(g, h, p, l, a0, b0, x0)\n",
    "        cnt += 1\n",
    "        if dict_x.get(x0) != None:\n",
    "            ap, bp = dict_x[x0]\n",
    "            a = (a0 - ap) % l\n",
    "            b = (b0 - bp) % l\n",
    "            x = calculate_dl(g, h, p, l, a, b)\n",
    "            if x == None:\n",
    "                return None\n",
    "            else:\n",
    "                return [x, cnt, dict_x.__sizeof__()]\n",
    "        else:\n",
    "            dict_x[x0] = a0, b0\n",
    "\n",
    "        if cnt % d == 0:\n",
    "            dict_x[x0] = a0, b0"
   ]
  },
  {
   "cell_type": "code",
   "execution_count": 4,
   "metadata": {},
   "outputs": [
    {
     "name": "stdout",
     "output_type": "stream",
     "text": [
      "93\n"
     ]
    }
   ],
   "source": [
    "print(inv(63, 101))"
   ]
  }
 ],
 "metadata": {
  "kernelspec": {
   "display_name": "py38",
   "language": "python",
   "name": "python3"
  },
  "language_info": {
   "codemirror_mode": {
    "name": "ipython",
    "version": 3
   },
   "file_extension": ".py",
   "mimetype": "text/x-python",
   "name": "python",
   "nbconvert_exporter": "python",
   "pygments_lexer": "ipython3",
   "version": "3.9.12"
  },
  "orig_nbformat": 4
 },
 "nbformat": 4,
 "nbformat_minor": 2
}
