{
 "cells": [
  {
   "cell_type": "code",
   "execution_count": 12,
   "metadata": {},
   "outputs": [
    {
     "name": "stdout",
     "output_type": "stream",
     "text": [
      "square root of a is 6\n",
      "x**2 = 17\n"
     ]
    }
   ],
   "source": [
    "def Mod(a, b):\n",
    "    return a%b\n",
    "\n",
    "def mod_binary(g, k, n, p):\n",
    "    y=1\n",
    "    k = str(bin(k))[2:]\n",
    "    for i in k:\n",
    "        if i=='1':\n",
    "            y = Mod(Mod(y**2, p)*g, p)\n",
    "            # print(y)\n",
    "        else:\n",
    "            y = Mod(y**2, p)\n",
    "            # print(y)\n",
    "    return y\n",
    "\n",
    "def find_square_root(a,p):\n",
    "    # Input: 整数 integer：a, 素数 prime number congruent to 3 modulo 4：p (p ≡ 3 (mod 4))\n",
    "    # Output: x2 ≡ 2 (mod p) を満たす 整数 x integer x satisfying x2 ≡ 2 (mod p)\n",
    "    x = mod_binary(a, (p+1)//4, len(str(bin((p-1)//2))[2:]), p)\n",
    "    return x\n",
    "\n",
    "p = 19\n",
    "a = 17\n",
    "x = find_square_root(a,p)\n",
    "print(\"square root of a is\", x)\n",
    "print(\"x**2 =\", Mod(x**2, p))"
   ]
  }
 ],
 "metadata": {
  "kernelspec": {
   "display_name": "base",
   "language": "python",
   "name": "python3"
  },
  "language_info": {
   "codemirror_mode": {
    "name": "ipython",
    "version": 3
   },
   "file_extension": ".py",
   "mimetype": "text/x-python",
   "name": "python",
   "nbconvert_exporter": "python",
   "pygments_lexer": "ipython3",
   "version": "3.7.3"
  },
  "orig_nbformat": 4
 },
 "nbformat": 4,
 "nbformat_minor": 2
}
