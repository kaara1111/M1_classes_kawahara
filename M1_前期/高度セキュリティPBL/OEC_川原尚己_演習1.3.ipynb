{
 "cells": [
  {
   "cell_type": "code",
   "execution_count": 1,
   "metadata": {},
   "outputs": [
    {
     "name": "stdout",
     "output_type": "stream",
     "text": [
      "2^1234567890 mod 97 = 50\n",
      "2^0 mod 97 = 1\n"
     ]
    }
   ],
   "source": [
    "def Mod(a, b):\n",
    "    return a%b\n",
    "\n",
    "def mod_binary(g, k, p):\n",
    "    y=1\n",
    "    k = str(bin(k))[2:]\n",
    "    for i in k:\n",
    "        if i=='1':\n",
    "            y = Mod(Mod(y**2, p)*g, p)\n",
    "            # print(y)\n",
    "        else:\n",
    "            y = Mod(y**2, p)\n",
    "            # print(y)\n",
    "    return y\n",
    "\n",
    "def main():\n",
    "    #(1)\n",
    "    modulo = mod_binary(2, 1234567890, 97)\n",
    "    print(\"2^1234567890 mod 97 =\", modulo)\n",
    "\n",
    "    #(2)\n",
    "    modulo = mod_binary(2, 0, 97)\n",
    "    print(\"2^0 mod 97 =\", modulo)\n",
    "\n",
    "if __name__==\"__main__\":\n",
    "    main()"
   ]
  }
 ],
 "metadata": {
  "kernelspec": {
   "display_name": "base",
   "language": "python",
   "name": "python3"
  },
  "language_info": {
   "codemirror_mode": {
    "name": "ipython",
    "version": 3
   },
   "file_extension": ".py",
   "mimetype": "text/x-python",
   "name": "python",
   "nbconvert_exporter": "python",
   "pygments_lexer": "ipython3",
   "version": "3.7.3"
  },
  "orig_nbformat": 4
 },
 "nbformat": 4,
 "nbformat_minor": 2
}
